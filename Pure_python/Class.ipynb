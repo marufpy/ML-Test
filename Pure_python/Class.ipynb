{
 "cells": [
  {
   "cell_type": "code",
   "execution_count": 37,
   "metadata": {},
   "outputs": [],
   "source": [
    "class Man:\n",
    "    def Information(name = 'No Name', age = 'no age'):\n",
    "        name = input('Enter Your Name')\n",
    "        age = int(input('Enter Your Age'))\n",
    "        print('Your Name is {} and Your Age is {}'.format(name,age))\n",
    "        "
   ]
  },
  {
   "cell_type": "code",
   "execution_count": 38,
   "metadata": {},
   "outputs": [
    {
     "name": "stdout",
     "output_type": "stream",
     "text": [
      "Enter Your NameMaruf\n",
      "Enter Your Age23\n",
      "Your Name is Maruf and Your Age is 23\n"
     ]
    }
   ],
   "source": [
    "Man.Information()"
   ]
  },
  {
   "cell_type": "code",
   "execution_count": 39,
   "metadata": {},
   "outputs": [],
   "source": [
    "class MyClass:\n",
    "    x = 5"
   ]
  },
  {
   "cell_type": "code",
   "execution_count": 41,
   "metadata": {},
   "outputs": [
    {
     "name": "stdout",
     "output_type": "stream",
     "text": [
      "5\n"
     ]
    }
   ],
   "source": [
    "p1 = MyClass()\n",
    "print(p1.x)"
   ]
  },
  {
   "cell_type": "code",
   "execution_count": 42,
   "metadata": {},
   "outputs": [],
   "source": [
    "class Person:\n",
    "    def __init__(self,name,age):\n",
    "        self.name = name\n",
    "        self.age = age"
   ]
  },
  {
   "cell_type": "code",
   "execution_count": 43,
   "metadata": {},
   "outputs": [
    {
     "name": "stdout",
     "output_type": "stream",
     "text": [
      "Maruf\n",
      "23\n"
     ]
    }
   ],
   "source": [
    "p1 = Person('Maruf', 23)\n",
    "print(p1.name)\n",
    "print(p1.age)"
   ]
  },
  {
   "cell_type": "code",
   "execution_count": 56,
   "metadata": {},
   "outputs": [],
   "source": [
    "class Person:\n",
    "    def __init__(self,name,age):\n",
    "        self.name = name\n",
    "        self.age = age\n",
    "    def myfunc(self):\n",
    "        print(\"Hello my Name is \"+self.name,'My Age is ',self.age)"
   ]
  },
  {
   "cell_type": "code",
   "execution_count": 57,
   "metadata": {},
   "outputs": [],
   "source": [
    "p1 = Person('Maruf', 23)"
   ]
  },
  {
   "cell_type": "code",
   "execution_count": 58,
   "metadata": {},
   "outputs": [
    {
     "name": "stdout",
     "output_type": "stream",
     "text": [
      "Hello my Name is Maruf ,My Age is  23\n"
     ]
    }
   ],
   "source": [
    "p1.myfunc()"
   ]
  },
  {
   "cell_type": "code",
   "execution_count": 31,
   "metadata": {},
   "outputs": [
    {
     "name": "stdout",
     "output_type": "stream",
     "text": [
      "Enter Your nameJihad\n",
      "Enter Your Age18\n",
      "Enter Your SpechHello It's Me Jihad\n"
     ]
    }
   ],
   "source": [
    "class Man:\n",
    "    def __init__(self,name,age,spech):\n",
    "        self.name = input('Enter Your name')\n",
    "        self.age = int(input('Enter Your Age'))\n",
    "        self.spech = input('Enter Your Spech')\n",
    "\n",
    "\n",
    "    def __str__(self):\n",
    "        return 'You Name is {} your Age is {} and Your Spech is: {}'.format(self.name,self.age,self.spech)\n",
    "       # Also We Can Use This .\n",
    "       # return 'You Name is {self.name} your Age is {self.age} and Your Spech is: {self.spech}'.format(self=self)\n",
    "\n",
    "p1 = Man('Maruf',23,\"Hello World I'm Comming\")  "
   ]
  },
  {
   "cell_type": "code",
   "execution_count": 32,
   "metadata": {},
   "outputs": [
    {
     "name": "stdout",
     "output_type": "stream",
     "text": [
      "You Name is Jihad your Age is 18 and Your Spech is: Hello It's Me Jihad\n"
     ]
    }
   ],
   "source": [
    "print(p1)"
   ]
  },
  {
   "cell_type": "code",
   "execution_count": 39,
   "metadata": {},
   "outputs": [
    {
     "name": "stdout",
     "output_type": "stream",
     "text": [
      "Subject NameCSE\n",
      "CSE\n",
      "CSE\n",
      "Geek\n",
      "Neerd\n",
      "1\n",
      "2\n"
     ]
    }
   ],
   "source": [
    "class CSStudent:\n",
    "    subject = input('Subject Name')\n",
    "    def __init__(self, name, roll):\n",
    "        self.name = name\n",
    "        self.roll = roll\n",
    "a = CSStudent('Geek',1)\n",
    "b = CSStudent('Neerd',2)\n",
    "print(a.subject)\n",
    "print(b.subject)\n",
    "print(a.name)\n",
    "print(b.name)\n",
    "print(a.roll)\n",
    "print(b.roll)"
   ]
  },
  {
   "cell_type": "code",
   "execution_count": 40,
   "metadata": {},
   "outputs": [
    {
     "name": "stdout",
     "output_type": "stream",
     "text": [
      "CSE\n"
     ]
    }
   ],
   "source": [
    "print(CSStudent.subject)"
   ]
  },
  {
   "cell_type": "code",
   "execution_count": 1,
   "metadata": {},
   "outputs": [
    {
     "name": "stdout",
     "output_type": "stream",
     "text": [
      "My dog's name is Wille.\n",
      "My dog is 6 years old.\n"
     ]
    }
   ],
   "source": [
    "class Dog:\n",
    "    '''A simple attempt to model a dog'''\n",
    "    def __init__(self,name,age):\n",
    "        '''Initialize name and age attributes'''\n",
    "        self.name = name\n",
    "        self.age = age\n",
    "    def sit(self):\n",
    "        '''Sumulate a dog sitting in responser to a command'''\n",
    "        print(f'{self.name} is now sitting')\n",
    "\n",
    "    def roll(self):\n",
    "        '''Simulate rolling over in response to a command'''\n",
    "        print(f'{self.name} rolled over!')    \n",
    "\n",
    "my_dog = Dog('Wille',6)\n",
    "print(f\"My dog's name is {my_dog.name}.\")\n",
    "print(f'My dog is {my_dog.age} years old.')"
   ]
  },
  {
   "cell_type": "code",
   "execution_count": 3,
   "metadata": {},
   "outputs": [
    {
     "name": "stdout",
     "output_type": "stream",
     "text": [
      "Wille is now sitting\n",
      "Wille rolled over!\n"
     ]
    }
   ],
   "source": [
    "my_dog.sit()\n",
    "my_dog.roll()"
   ]
  },
  {
   "cell_type": "code",
   "execution_count": 4,
   "metadata": {},
   "outputs": [
    {
     "name": "stdout",
     "output_type": "stream",
     "text": [
      "2019 A4 A4\n"
     ]
    }
   ],
   "source": [
    "class Car:\n",
    "    '''A simple attempt to represent a car.'''\n",
    "\n",
    "    def __init__(self,make,model,year):\n",
    "        '''Initialize attributes to describe a car.'''\n",
    "        self.make = make\n",
    "        self.model = model\n",
    "        self.year = year\n",
    "\n",
    "    def get_descriptive_name(self):\n",
    "        '''Return a neatly formatted descriptive name.'''\n",
    "        long_name = f'{self.year} {self.model} {self.model}'\n",
    "        return long_name.title()\n",
    "my_new_car = Car('Audi','a4',2019)\n",
    "print(my_new_car.get_descriptive_name())  "
   ]
  },
  {
   "cell_type": "code",
   "execution_count": 32,
   "metadata": {},
   "outputs": [
    {
     "name": "stdout",
     "output_type": "stream",
     "text": [
      "2019 A4 A4\n",
      "This car has 0 miles on it.\n"
     ]
    }
   ],
   "source": [
    "class Car:\n",
    "    '''A simple attempt to represent a car.'''\n",
    "\n",
    "    def __init__(self,make,model,year):\n",
    "        '''Initialize attributes to describe a car.'''\n",
    "        self.make = make\n",
    "        self.model = model\n",
    "        self.year = year\n",
    "        self.odometer_reading = 0\n",
    "\n",
    "    def get_descriptive_name(self):\n",
    "        '''Return a neatly formatted descriptive name.'''\n",
    "        long_name = f'{self.year} {self.model} {self.model}'\n",
    "        return long_name.title()\n",
    "\n",
    "        \n",
    "    def update_odometer(self,mileage):\n",
    "        '''Set teh odometer readingto the diven value'''\n",
    "        self.over_reading = mileage    \n",
    "\n",
    "    def read_odometer(self):\n",
    "        '''Print a statement showing the car's mileage'''\n",
    "        print(f'This car has {self.odometer_reading} miles on it.') \n",
    "        \n",
    "        \n",
    "\n",
    "        \n",
    "my_new_car = Car('Audi','a4',2019)\n",
    "print(my_new_car.get_descriptive_name())\n",
    "my_new_car.read_odometer()\n",
    "#my_new_car.odometer_reading = 23\n",
    "#my_new_car.read_odometer()"
   ]
  },
  {
   "cell_type": "code",
   "execution_count": 33,
   "metadata": {},
   "outputs": [
    {
     "name": "stdout",
     "output_type": "stream",
     "text": [
      "This car has 0 miles on it.\n"
     ]
    }
   ],
   "source": [
    "my_new_car.update_odometer(23)\n",
    "my_new_car.read_odometer()  "
   ]
  },
  {
   "cell_type": "code",
   "execution_count": null,
   "metadata": {},
   "outputs": [],
   "source": []
  },
  {
   "cell_type": "code",
   "execution_count": null,
   "metadata": {},
   "outputs": [],
   "source": []
  }
 ],
 "metadata": {
  "kernelspec": {
   "display_name": "Python 3",
   "language": "python",
   "name": "python3"
  },
  "language_info": {
   "codemirror_mode": {
    "name": "ipython",
    "version": 3
   },
   "file_extension": ".py",
   "mimetype": "text/x-python",
   "name": "python",
   "nbconvert_exporter": "python",
   "pygments_lexer": "ipython3",
   "version": "3.7.4"
  }
 },
 "nbformat": 4,
 "nbformat_minor": 2
}
