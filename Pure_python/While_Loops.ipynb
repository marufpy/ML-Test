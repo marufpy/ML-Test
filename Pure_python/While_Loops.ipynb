{
 "cells": [
  {
   "cell_type": "markdown",
   "metadata": {},
   "source": [
    "<h1>While Loops</h1>"
   ]
  },
  {
   "cell_type": "code",
   "execution_count": 4,
   "metadata": {},
   "outputs": [
    {
     "name": "stdout",
     "output_type": "stream",
     "text": [
      "x is:0\n",
      "x is:1\n",
      "x is:2\n",
      "x is:3\n",
      "x is:4\n",
      "x is:5\n",
      "x is:6\n",
      "x is:7\n",
      "x is:8\n",
      "x is:9\n"
     ]
    }
   ],
   "source": [
    "x = 0\n",
    "while x<10:\n",
    "    print('x is:{}'.format(x))\n",
    "    x+=1    "
   ]
  },
  {
   "cell_type": "code",
   "execution_count": 12,
   "metadata": {},
   "outputs": [
    {
     "name": "stdout",
     "output_type": "stream",
     "text": [
      "Printing model:dodecahedron\n",
      "Printing model:robot pendant\n",
      "Printing model:phone case\n",
      "\n",
      " The following models have been printed:\n",
      "dodecahedron\n",
      "robot pendant\n",
      "phone case\n"
     ]
    }
   ],
   "source": [
    "#Start with some design that need to be printed\n",
    "unprinted_designs = ['phone case','robot pendant','dodecahedron']\n",
    "completed_models = []\n",
    "#Simulated printing each design,until none are left.\n",
    "#Move each design to completed_models after printing.\n",
    "while unprinted_designs:\n",
    "        current_design = unprinted_designs.pop()\n",
    "        print(f'Printing model:{current_design}')\n",
    "        completed_models.append(current_design)\n",
    "#Display all completed models.\n",
    "print('\\n The following models have been printed:')\n",
    "for completed_model in completed_models:\n",
    "    print(completed_model)"
   ]
  },
  {
   "cell_type": "code",
   "execution_count": null,
   "metadata": {},
   "outputs": [],
   "source": []
  }
 ],
 "metadata": {
  "kernelspec": {
   "display_name": "Python 3",
   "language": "python",
   "name": "python3"
  },
  "language_info": {
   "codemirror_mode": {
    "name": "ipython",
    "version": 3
   },
   "file_extension": ".py",
   "mimetype": "text/x-python",
   "name": "python",
   "nbconvert_exporter": "python",
   "pygments_lexer": "ipython3",
   "version": "3.7.4"
  }
 },
 "nbformat": 4,
 "nbformat_minor": 2
}
