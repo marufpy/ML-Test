{
 "cells": [
  {
   "cell_type": "markdown",
   "metadata": {},
   "source": [
    "<h1>Functions</h1>"
   ]
  },
  {
   "cell_type": "code",
   "execution_count": 1,
   "metadata": {},
   "outputs": [],
   "source": [
    "def my_func(name = 'Default Name'):\n",
    "    print('Hello '+ name)"
   ]
  },
  {
   "cell_type": "code",
   "execution_count": 2,
   "metadata": {},
   "outputs": [],
   "source": [
    "my_func()"
   ]
  },
  {
   "cell_type": "code",
   "execution_count": 3,
   "metadata": {},
   "outputs": [],
   "source": [
    "def square(num):\n",
    "    return num** 2"
   ]
  },
  {
   "cell_type": "code",
   "execution_count": 4,
   "metadata": {},
   "outputs": [],
   "source": [
    "x = square(10)"
   ]
  },
  {
   "cell_type": "code",
   "execution_count": 5,
   "metadata": {},
   "outputs": [
    {
     "name": "stdout",
     "output_type": "stream",
     "text": [
      "100\n"
     ]
    }
   ],
   "source": [
    "print(x)"
   ]
  },
  {
   "cell_type": "code",
   "execution_count": 6,
   "metadata": {},
   "outputs": [],
   "source": [
    "def akash(a):\n",
    "    if a<=1:\n",
    "        return a\n",
    "    else:\n",
    "        return (a-1)+(a-2)"
   ]
  },
  {
   "cell_type": "code",
   "execution_count": 7,
   "metadata": {},
   "outputs": [
    {
     "data": {
      "text/plain": [
       "149"
      ]
     },
     "execution_count": 7,
     "metadata": {},
     "output_type": "execute_result"
    }
   ],
   "source": [
    "akash(76)"
   ]
  },
  {
   "cell_type": "code",
   "execution_count": 8,
   "metadata": {},
   "outputs": [],
   "source": [
    "def print_models(unprinted_designs,completed_models):\n",
    "    while unprinted_designs:\n",
    "        current_design = unprinted_designs.pop()\n",
    "        print(f'Print model:{current_design}')\n",
    "        completed_models.append(current_design)\n",
    "def show_completed_models(completed_models):\n",
    "    print('\\n The Following models have been printed')\n",
    "    for completed_model in completed_models:\n",
    "        print(completed_model)\n",
    "\n",
    "unprinted_designs = ['phone case', 'robot pendant', 'dodecahedron']\n",
    "completed_models = []\n",
    "#print_models(unprinted_designs, completed_models)\n",
    "#show_completed_models(completed_models)"
   ]
  },
  {
   "cell_type": "code",
   "execution_count": 9,
   "metadata": {},
   "outputs": [
    {
     "name": "stdout",
     "output_type": "stream",
     "text": [
      "\n",
      " The Following models have been printed\n",
      "phone case\n",
      "robot pendant\n",
      "dodecahedron\n"
     ]
    }
   ],
   "source": [
    "show_completed_models(unprinted_designs)"
   ]
  },
  {
   "cell_type": "code",
   "execution_count": 10,
   "metadata": {},
   "outputs": [
    {
     "name": "stdout",
     "output_type": "stream",
     "text": [
      "Print model:dodecahedron\n",
      "Print model:robot pendant\n",
      "Print model:phone case\n"
     ]
    }
   ],
   "source": [
    "print_models(unprinted_designs[:], completed_models)"
   ]
  },
  {
   "cell_type": "code",
   "execution_count": 11,
   "metadata": {},
   "outputs": [
    {
     "name": "stdout",
     "output_type": "stream",
     "text": [
      "('pepperoni',)\n",
      "('mashrooms', 'green peppers', 'extra cheese')\n"
     ]
    }
   ],
   "source": [
    "def make_pizza(*toppings):\n",
    "    '''Print the list of toppings that have been requested'''\n",
    "    print(toppings)\n",
    "make_pizza('pepperoni')\n",
    "make_pizza('mashrooms','green peppers','extra cheese')"
   ]
  },
  {
   "cell_type": "code",
   "execution_count": 13,
   "metadata": {},
   "outputs": [
    {
     "name": "stdout",
     "output_type": "stream",
     "text": [
      "\n",
      " Making a pizza with the following toppings\n",
      "- pepperoni\n",
      "\n",
      " Making a pizza with the following toppings\n",
      "- mushrooms\n",
      "- green peppers\n",
      "- extra cheese\n"
     ]
    }
   ],
   "source": [
    "def make_pizza(*toppings):\n",
    "    '''Summarize the pizza we are about to make'''\n",
    "    print('\\n Making a pizza with the following toppings')\n",
    "    for topping in toppings:\n",
    "        print(f'- {topping}')\n",
    "make_pizza('pepperoni')\n",
    "make_pizza('mushrooms','green peppers','extra cheese')"
   ]
  },
  {
   "cell_type": "code",
   "execution_count": 20,
   "metadata": {},
   "outputs": [
    {
     "name": "stdout",
     "output_type": "stream",
     "text": [
      "\n",
      " Making a 16-inch pizza with the following toppings\n",
      "- pepperoni\n",
      "\n",
      " Making a 12-inch pizza with the following toppings\n",
      "- mushrooms\n",
      "- green peppers\n",
      "- extra cheese\n"
     ]
    }
   ],
   "source": [
    "def make_pizza(size,*toppings):\n",
    "    '''Summarize the pizza we are about to make'''\n",
    "    print(f'\\n Making a {size}-inch pizza with the following toppings')\n",
    "    for topping in toppings:\n",
    "        print(f'- {topping}')\n",
    "make_pizza(16,'pepperoni')\n",
    "make_pizza(12,'mushrooms','green peppers','extra cheese')"
   ]
  },
  {
   "cell_type": "code",
   "execution_count": 23,
   "metadata": {},
   "outputs": [],
   "source": [
    "def build_profile(first,last,**user_info):\n",
    "    '''Build a dictoinary containing everything we know about a user'''\n",
    "    user_info['first_name'] = first\n",
    "    user_info['Last_name'] = last\n",
    "    return user_info\n",
    "\n",
    "user_profile = build_profile('albert','einstein',\n",
    "                            location = 'princerton',\n",
    "                            field = 'physic')"
   ]
  },
  {
   "cell_type": "code",
   "execution_count": 24,
   "metadata": {},
   "outputs": [
    {
     "name": "stdout",
     "output_type": "stream",
     "text": [
      "{'location': 'princerton', 'field': 'physic', 'first_name': 'albert', 'Last_name': 'einstein'}\n"
     ]
    }
   ],
   "source": [
    "print(user_profile)"
   ]
  },
  {
   "cell_type": "code",
   "execution_count": 25,
   "metadata": {},
   "outputs": [
    {
     "name": "stdout",
     "output_type": "stream",
     "text": [
      "2324\n",
      "21321\n",
      "234\n",
      "2434\n"
     ]
    }
   ],
   "source": [
    "def myfunc(a,b,*args, **kwargs):\n",
    "    for ar in args:\n",
    "        print(ar)\n",
    "myfunc(12,122,2324,21321,234,2434)"
   ]
  },
  {
   "cell_type": "code",
   "execution_count": 26,
   "metadata": {},
   "outputs": [
    {
     "name": "stdout",
     "output_type": "stream",
     "text": [
      "The factorial of 4 is 24\n"
     ]
    }
   ],
   "source": [
    "def calc_factorial(x):\n",
    "    \"\"\"This is a recursive function\n",
    "    to find the factorial of an integer\"\"\"\n",
    "\n",
    "    if x == 1:\n",
    "        return 1\n",
    "    else:\n",
    "        return (x * calc_factorial(x-1))\n",
    "\n",
    "num = 4\n",
    "print(\"The factorial of\", num, \"is\", calc_factorial(num))"
   ]
  },
  {
   "cell_type": "code",
   "execution_count": null,
   "metadata": {},
   "outputs": [],
   "source": []
  }
 ],
 "metadata": {
  "kernelspec": {
   "display_name": "Python 3",
   "language": "python",
   "name": "python3"
  },
  "language_info": {
   "codemirror_mode": {
    "name": "ipython",
    "version": 3
   },
   "file_extension": ".py",
   "mimetype": "text/x-python",
   "name": "python",
   "nbconvert_exporter": "python",
   "pygments_lexer": "ipython3",
   "version": "3.7.4"
  }
 },
 "nbformat": 4,
 "nbformat_minor": 2
}
